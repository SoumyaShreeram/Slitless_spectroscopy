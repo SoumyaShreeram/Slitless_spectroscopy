{
 "cells": [
  {
   "cell_type": "markdown",
   "metadata": {},
   "source": [
    "## 02. Using the GALACTICNUCLEUS catalog\n",
    "\n",
    "This script aims to simulate a spectral image that would be observed using slitless spectroscopy, using the data on the star position and flux as was obtained from the GALACTICNUCLEUS survey. The original publication can be found [here](https://www.aanda.org/articles/aa/full_html/2019/11/aa36263-19/aa36263-19.html#S2) and the data can also be downloaded from [here](http://cdsarc.unistra.fr/viz-bin/cat/J/A+A/631/A20). \n",
    "\n",
    "Script written by: **Soumya Shreeram** <br/> \n",
    "Project supervised by: **Francisco Nogueras-Lara and Nadine Neumayer (MPIA)** <br/>\n",
    "Date: **05th October 2020** <br/>"
   ]
  },
  {
   "cell_type": "code",
   "execution_count": 2,
   "metadata": {},
   "outputs": [],
   "source": [
    "import astropy.io.fits as fits\n",
    "from scipy.sparse import csr_matrix\n",
    "import scipy.stats as stats\n",
    "import numpy as np\n",
    "import os\n",
    "import importlib\n",
    "\n",
    "# generate random integer values\n",
    "from random import seed\n",
    "from random import randint\n",
    "\n",
    "# plotting imports\n",
    "import matplotlib.pyplot as plt\n",
    "from mpl_toolkits.mplot3d.axes3d import Axes3D\n",
    "from matplotlib.ticker import LinearLocator, FormatStrFormatter\n",
    "from matplotlib import cm\n",
    "\n",
    "# to show progress during computations\n",
    "from time import sleep\n",
    "import sys\n",
    "\n",
    "import matplotlib\n",
    "%matplotlib inline\n",
    "font = {'family' : 'arial',\n",
    "        'weight' : 'normal',\n",
    "        'size'   : 20}\n",
    "matplotlib.rc('font', **font)"
   ]
  },
  {
   "cell_type": "markdown",
   "metadata": {},
   "source": [
    "Personal imports"
   ]
  },
  {
   "cell_type": "code",
   "execution_count": 3,
   "metadata": {},
   "outputs": [],
   "source": [
    "import Simulating_Spectra as ss"
   ]
  },
  {
   "cell_type": "markdown",
   "metadata": {},
   "source": [
    "#### 1. Defining input parameters"
   ]
  },
  {
   "cell_type": "code",
   "execution_count": 4,
   "metadata": {},
   "outputs": [],
   "source": [
    "# setting up the working directory path\n",
    "current_dir = os.getcwd()\n",
    "data_dir = os.path.join(current_dir, \"Data\")\n",
    "\n",
    "# putting together the file name\n",
    "string_name = 'J_A+A_631_A20_central.dat.fits'\n",
    "filename = os.path.join(data_dir, string_name)\n",
    "\n",
    " "
   ]
  },
  {
   "cell_type": "code",
   "execution_count": 20,
   "metadata": {},
   "outputs": [],
   "source": [
    "def readCatalogFile(filename):\n",
    "    \"\"\"\n",
    "    Function to read the magnitude and positions of the stars from the catalog file\n",
    "    \"\"\"\n",
    "    hdu_list = fits.open(filename)\n",
    "    # Ks band magnitude\n",
    "    mag_Ks = hdu_list[1].data['Ksmag']\n",
    "\n",
    "    # position of stars in the sky\n",
    "    ra_Ks = hdu_list[1].data['RAKsdeg']\n",
    "    de_Ks = hdu_list[1].data['DEKsdeg']\n",
    "\n",
    "    # errors on magnitude and positions\n",
    "    e_mag_Ks = hdu_list[1].data['e_Ksmag']\n",
    "    e_ra_Ks = hdu_list[1].data['RAKsdeg']\n",
    "    e_de_Ks = hdu_list[1].data['DEKsdeg']\n",
    "    \n",
    "    # close file\n",
    "    hdu_list.close()\n",
    "    \n",
    "    errors = [e_mag_Ks, e_ra_Ks, e_de_Ks]\n",
    "    return mag_Ks, ra_Ks, de_Ks, errors\n"
   ]
  },
  {
   "cell_type": "code",
   "execution_count": 21,
   "metadata": {},
   "outputs": [],
   "source": [
    "mag_Ks, ra_Ks, de_Ks, errors = readCatalogFile(filename)"
   ]
  },
  {
   "cell_type": "code",
   "execution_count": 51,
   "metadata": {},
   "outputs": [
    {
     "data": {
      "image/png": "[encoded data removed]",
      "text/plain": [
       "<Figure size 648x576 with 1 Axes>"
      ]
     },
     "metadata": {},
     "output_type": "display_data"
    }
   ],
   "source": [
    "fig, ax = plt.subplots(1,1,figsize=(9,8))\n",
    "\n",
    "# plotting the stars\n",
    "ax.plot(de_Ks[0:-1], ra_Ks[0:-1], \"b.\")\n",
    "ss.setLabel(ax, 'Declination (deg)', 'Right ascension (deg)', '', [-28.5, -29.5], [266, 266.7], legend=False)\n"
   ]
  },
  {
   "cell_type": "code",
   "execution_count": null,
   "metadata": {},
   "outputs": [],
   "source": []
  }
 ],
 "metadata": {
  "kernelspec": {
   "display_name": "Python 3.6",
   "language": "python",
   "name": "python_3.6"
  },
  "language_info": {
   "codemirror_mode": {
    "name": "ipython",
    "version": 3
   },
   "file_extension": ".py",
   "mimetype": "text/x-python",
   "name": "python",
   "nbconvert_exporter": "python",
   "pygments_lexer": "ipython3",
   "version": "3.6.5"
  }
 },
 "nbformat": 4,
 "nbformat_minor": 2
}
