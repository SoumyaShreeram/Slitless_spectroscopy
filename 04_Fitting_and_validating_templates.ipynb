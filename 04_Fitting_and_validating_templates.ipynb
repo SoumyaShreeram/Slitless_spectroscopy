{
 "cells": [
  {
   "cell_type": "markdown",
   "metadata": {},
   "source": [
    "## 4. Fitting and Validating the Generated Templates in the Slitless Mode\n",
    "\n",
    "\n",
    "The template library was generated for a different stellar populations in Notebook 3. The aim of this notebook is to see if we can narrow down on the correct population-distribution, when given a sample-data image.\n",
    "\n",
    "The notebook is divided into the following sections:\n",
    "1. Defining Input Parameters\n",
    "2. Building a data matrix\n",
    "3. Find the best-fitting distribution, and hence, the best-fitting template\n",
    "\n",
    "\n",
    "Script written by: **Soumya Shreeram** <br/> \n",
    "Project supervised by: **Nadine Neumayer and Francisco Nogueras-Lara (MPIA)** <br/>\n",
    "Date: **16th October 2020** <br/>"
   ]
  },
  {
   "cell_type": "code",
   "execution_count": 1,
   "metadata": {},
   "outputs": [],
   "source": [
    "import astropy.units as u\n",
    "import astropy.io.fits as fits\n",
    "\n",
    "from scipy.sparse import csr_matrix\n",
    "import scipy.stats as stats\n",
    "import numpy as np\n",
    "import os\n",
    "import importlib\n",
    "\n",
    "# generate random integer values\n",
    "from random import seed\n",
    "from random import randint\n",
    "\n",
    "# plotting imports\n",
    "import matplotlib.pyplot as plt\n",
    "from mpl_toolkits.mplot3d.axes3d import Axes3D\n",
    "from matplotlib.ticker import LinearLocator, FormatStrFormatter\n",
    "from matplotlib import cm\n",
    "\n",
    "# to show progress during computations\n",
    "from time import sleep\n",
    "import sys\n",
    "\n",
    "import matplotlib\n",
    "import seaborn as sns\n",
    "\n",
    "# for manupilating spectra\n",
    "from specutils.manipulation import (box_smooth, gaussian_smooth, trapezoid_smooth)\n",
    "from specutils import Spectrum1D\n",
    "\n",
    "# for doing combinatorics with spectra\n",
    "from itertools import permutations"
   ]
  },
  {
   "cell_type": "code",
   "execution_count": 2,
   "metadata": {},
   "outputs": [],
   "source": [
    "%matplotlib inline\n",
    "font = {'family' : 'arial',\n",
    "        'weight' : 'normal',\n",
    "        'size'   : 20}\n",
    "matplotlib.rc('font', **font)"
   ]
  },
  {
   "cell_type": "code",
   "execution_count": 3,
   "metadata": {},
   "outputs": [],
   "source": [
    "sys.path.append('imported_files/')\n",
    "import Simulating_Spectra as ss\n",
    "import plotting as pt\n",
    "import Slitless_spec_forward_modelling as ssfm\n",
    "import Fitting_and_pdfs as fap"
   ]
  },
  {
   "cell_type": "markdown",
   "metadata": {},
   "source": [
    "#### 1. Defining Input Parameters"
   ]
  },
  {
   "cell_type": "code",
   "execution_count": 19,
   "metadata": {},
   "outputs": [
    {
     "name": "stdout",
     "output_type": "stream",
     "text": [
      "The spectra is dispersed over 600 pixels\n"
     ]
    }
   ],
   "source": [
    "num_stars = 10\n",
    "l_pix, u_pix = 0, 2000\n",
    "generate_new_pos = False\n",
    "x_pos, y_pos = ss.starPositions(l_pix, u_pix, num_stars, generate_new_pos,\\\n",
    "                             'Data/pos_arr.npy')\n",
    "\n",
    "template_dir = 'Data/Template_library_%d_stars/'%num_stars\n",
    "hot_stars = 0.1\n",
    "templates_exist= False\n",
    "\n",
    "# wavelength to pixel conversions\n",
    "delta_lambda = 0.0005  # micro meter ==  1 pixel\n",
    "k_band_lambda0 = 2.2\n",
    "k_band_range = 0.3 # micro meter\n",
    "\n",
    "# corresponsing resolution and dispersion size\n",
    "r = k_band_lambda0/delta_lambda\n",
    "disperse_range = int(k_band_range/delta_lambda) \n",
    "print('The spectra is dispersed over %d pixels'%disperse_range)\n",
    "\n",
    "dispersion_angle = 0 # degrees\n",
    "\n",
    "# number to which the dimensions of the original image is reduced to cal chi-squared\n",
    "num_splits = int(u_pix/5)\n",
    "\n",
    "# different populations of hot stars considered \n",
    "hot_stars_arr = np.arange(1, 7)/10"
   ]
  },
  {
   "cell_type": "markdown",
   "metadata": {},
   "source": [
    "#### 2. Building a data matrix"
   ]
  },
  {
   "cell_type": "code",
   "execution_count": 31,
   "metadata": {},
   "outputs": [
    {
     "name": "stdout",
     "output_type": "stream",
     "text": [
      "1 stars at Teff = 12000 K, log g = 6.0\n",
      "0 stars at Teff = 11800 K, log g = 2.5\n",
      "0 stars at Teff = 10000 K, log g = 3.0\n",
      "0 stars at Teff = 8400 K, log g = 6.0\n",
      "0 stars at Teff = 7600 K, log g = 3.5\n",
      "0 stars at Teff = 6900 K, log g = 3.0\n",
      "0 stars at Teff = 5900 K, log g = 3.0\n",
      "9 stars at Teff = 5100 K, log g = 2.0\n",
      "0 stars at Teff = 4700 K, log g = 1.5\n",
      "0 stars at Teff = 3900 K, log g = 6.0\n",
      "\n",
      "Choosing permutation no. 3 out of total 10 permutations\n"
     ]
    },
    {
     "data": {
      "image/png": "[encoded data removed]",
      "text/plain": [
       "<Figure size 648x576 with 1 Axes>"
      ]
     },
     "metadata": {},
     "output_type": "display_data"
    }
   ],
   "source": [
    "data_LSF_2Dmat, perm_no = fap.dataMatrix(template_dir, hot_stars, num_stars, u_pix, \\\n",
    "                                         l_pix, x_pos, y_pos, disperse_range, \\\n",
    "                                         dispersion_angle, templates_exist)"
   ]
  },
  {
   "cell_type": "markdown",
   "metadata": {},
   "source": [
    "#### 3. Find the best-fitting distribution, and hence, the best-fitting template"
   ]
  },
  {
   "cell_type": "code",
   "execution_count": null,
   "metadata": {},
   "outputs": [
    {
     "name": "stdout",
     "output_type": "stream",
     "text": [
      "\n",
      "\n",
      "For 1 hot stars:\n",
      "\n",
      "The best-fitting permutation is 3 with chi-squared = 365933.00\n",
      "\n",
      "\n",
      "For 2 hot stars:\n",
      "\n",
      "The best-fitting permutation is 29 with chi-squared = 380383.00\n",
      "\n",
      "\n",
      "For 3 hot stars:\n",
      "\n",
      "The best-fitting permutation is 110 with chi-squared = 391188.00\n",
      "\n",
      "\n",
      "For 4 hot stars:\n",
      "\n"
     ]
    }
   ],
   "source": [
    "importlib.reload(fap)\n",
    "chi_square3D = fap.fitTemplateLibrary(template_dir, hot_stars_arr, num_stars,\\\n",
    "                                      data_LSF_2Dmat, num_splits, u_pix)"
   ]
  },
  {
   "cell_type": "code",
   "execution_count": null,
   "metadata": {},
   "outputs": [],
   "source": []
  }
 ],
 "metadata": {
  "kernelspec": {
   "display_name": "Python 3.6",
   "language": "python",
   "name": "python_3.6"
  },
  "language_info": {
   "codemirror_mode": {
    "name": "ipython",
    "version": 3
   },
   "file_extension": ".py",
   "mimetype": "text/x-python",
   "name": "python",
   "nbconvert_exporter": "python",
   "pygments_lexer": "ipython3",
   "version": "3.6.5"
  }
 },
 "nbformat": 4,
 "nbformat_minor": 2
}
