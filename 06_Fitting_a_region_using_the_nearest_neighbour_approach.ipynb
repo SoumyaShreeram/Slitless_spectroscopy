{
 "cells": [
  {
   "cell_type": "markdown",
   "metadata": {},
   "source": [
    "## 6. Fitting and minimizing the data image by applying the star-by-star approach \n",
    "\n",
    "\n",
    "In Notebook 2, the data image with PSF was generated. In Notebook 5, the FOV is divided into sub-grids and the star-by-star or the 'nearest negihbour approach' is applied, where only the stars within the dispersive range of the concerned stars spectrum are considered in the analysis. A template \n",
    "\n",
    "The notebook is divided into the following sections:\n",
    "1. Defining Input Parameters\n",
    "2. Fitting regions for a given number of stars\n",
    "\n",
    "Script written by: **Soumya Shreeram** <br/> \n",
    "Project supervised by: **Nadine Neumayer and Francisco Nogueras-Lara (MPIA)** <br/>\n",
    "Date: **30th November 2020** <br/>"
   ]
  },
  {
   "cell_type": "code",
   "execution_count": 1,
   "metadata": {},
   "outputs": [],
   "source": [
    "import astropy.units as u\n",
    "import astropy.io.fits as fits\n",
    "\n",
    "import math\n",
    "from scipy.sparse import csr_matrix\n",
    "import scipy.stats as stats\n",
    "import numpy as np\n",
    "import os\n",
    "import importlib\n",
    "\n",
    "# generate random integer values\n",
    "from random import seed\n",
    "from random import randint\n",
    "\n",
    "# plotting imports\n",
    "import matplotlib.pyplot as plt\n",
    "from mpl_toolkits.mplot3d.axes3d import Axes3D\n",
    "from matplotlib.ticker import LinearLocator, FormatStrFormatter\n",
    "from matplotlib import cm\n",
    "from matplotlib.collections import PatchCollection\n",
    "from matplotlib.patches import Rectangle\n",
    "\n",
    "# to show progress during computations\n",
    "from time import sleep\n",
    "import sys\n",
    "\n",
    "import matplotlib\n",
    "import seaborn as sns\n",
    "\n",
    "# for doing combinatorics with spectra\n",
    "from itertools import permutations\n",
    "from more_itertools import distinct_permutations"
   ]
  },
  {
   "cell_type": "code",
   "execution_count": 2,
   "metadata": {},
   "outputs": [],
   "source": [
    "%matplotlib inline\n",
    "font = {'family' : 'arial',\n",
    "        'weight' : 'normal',\n",
    "        'size'   : 20}\n",
    "matplotlib.rc('font', **font)"
   ]
  },
  {
   "cell_type": "code",
   "execution_count": 4,
   "metadata": {},
   "outputs": [],
   "source": [
    "sys.path.append('imported_files/')\n",
    "import Simulating_Spectra as ss\n",
    "import plotting as pt\n",
    "import Slitless_spec_forward_modelling as ssfm\n",
    "import star_by_star_template_library as stl\n",
    "import Fitting_and_pdfs as fap"
   ]
  },
  {
   "cell_type": "markdown",
   "metadata": {},
   "source": [
    "#### 01. Defining Input Parameters"
   ]
  },
  {
   "cell_type": "code",
   "execution_count": 5,
   "metadata": {},
   "outputs": [
    {
     "name": "stdout",
     "output_type": "stream",
     "text": [
      "The size of dispersion is set to be 727 pixels\n"
     ]
    }
   ],
   "source": [
    "# FOV in pixels\n",
    "l_pix, u_pix = 0, 1128\n",
    "\n",
    "# loads the effective FoV\n",
    "x_pos, y_pos, mag_H, mag_Ks = np.load('Data/selected_FOV.npy')\n",
    "selected_c_pxls = np.load('Data/selected_central_pixels.npy')\n",
    "\n",
    "# directory paths\n",
    "template_dir = 'Data/Template_library/'\n",
    "save_data_crop_dir = 'Data/Cropped_Data_Images/'\n",
    "save_data_psf_crop_dir = 'Data/Cropped_Data_PSF_Images/'\n",
    "        \n",
    "# set the dispersion range of the spectra\n",
    "disperse_range = ss.defineDispersionRange(r=4000, lambda0=2.2, band_width=0.4)\n",
    "print('The size of dispersion is set to be %d pixels'%disperse_range)\n",
    "\n",
    "# effective FoV dimensions\n",
    "u_pix_arr = [int(u_pix+disperse_range), u_pix]\n",
    "\n",
    "dispersion_angle = 0 # degrees\n",
    "\n",
    "# width of influence of the PSF on neighbouring stars (pixels)\n",
    "width=3\n",
    "\n",
    "# number to which the dimensions of the original image is reduced to cal chi-squared\n",
    "num_splits = 5\n",
    "\n",
    "# different populations of hot stars considered \n",
    "hot_stars_arr = np.arange(0, 11)/10\n",
    "\n",
    "# would you like to discard foreground stars completely or do something more complicated\n",
    "discard_forground_stars = False\n",
    "foreground_cutoff = 1.1\n",
    "\n",
    "# discards background stars from the effective FoV\n",
    "if discard_forground_stars:\n",
    "    x_pos, y_pos, mag_H, mag_Ks = ssfm.discardForegroundStars(x_pos, y_pos, mag_H, mag_Ks, foreground_cutoff)\n",
    "    num_stars = len(mag_Ks)\n",
    "\n",
    "# start pixels of a small region of the sky\n",
    "x_start, y_start = 0, 0\n",
    "\n",
    "# start pixels in the original file\n",
    "x_start_og, y_start_og = 1000, 2500"
   ]
  },
  {
   "cell_type": "markdown",
   "metadata": {},
   "source": [
    "#### 2. Extracting information on the neighbouring population of stars for the concerned FOV"
   ]
  },
  {
   "cell_type": "code",
   "execution_count": 6,
   "metadata": {},
   "outputs": [
    {
     "name": "stdout",
     "output_type": "stream",
     "text": [
      "Around 9180 stars form neighbours, of which most are repeats. In total, 98715 stars need to be modelled.\n"
     ]
    }
   ],
   "source": [
    "# these arrays that hold information about the location and number of neighbours\n",
    "star_neighbours, num_neighbours, x_FOV, y_FOV = stl.findStarAndNeighbours(x_pos, y_pos, mag_H,\\\n",
    "                                                            mag_Ks, disperse_range,\\\n",
    "                                                            width, selected_c_pxls,\\\n",
    "                                                           [x_start, y_start], u_pix)\n",
    "\n",
    "# arrays extract information about the no. of neighbours in total & outside FOV\n",
    "neighbours_outside_FOV = np.array(num_neighbours[1])-np.array(num_neighbours[0])\n",
    "total_neighbours = np.array(num_neighbours[1])\n",
    "\n",
    "# array holds info on the regions of concern for a given number of neighbours\n",
    "total_stars_FOV_params = stl.starsOutsideFOV(star_neighbours)"
   ]
  },
  {
   "cell_type": "markdown",
   "metadata": {},
   "source": [
    "#### 3. Fitting regions with n-stars"
   ]
  },
  {
   "cell_type": "code",
   "execution_count": 18,
   "metadata": {},
   "outputs": [
    {
     "name": "stdout",
     "output_type": "stream",
     "text": [
      "\n",
      "Region 0 of 255:\n",
      "0 percent hot stars -- \n",
      "10 percent hot stars -- \n",
      "20 percent hot stars -- \n",
      "30 percent hot stars -- \n",
      "40 percent hot stars -- \n",
      "50 percent hot stars -- \n",
      "60 percent hot stars -- \n",
      "70 percent hot stars -- \n",
      "80 percent hot stars -- \n",
      "90 percent hot stars -- \n",
      "100 percent hot stars -- \n",
      "\n",
      "Region 1 of 255:\n",
      "0 percent hot stars -- \n",
      "10 percent hot stars -- \n",
      "20 percent hot stars -- \n",
      "30 percent hot stars -- \n",
      "40 percent hot stars -- \n",
      "50 percent hot stars -- \n",
      "60 percent hot stars -- \n",
      "70 percent hot stars -- \n",
      "80 percent hot stars -- \n",
      "90 percent hot stars -- \n",
      "100 percent hot stars -- \n"
     ]
    }
   ],
   "source": [
    "importlib.reload(ssfm)\n",
    "importlib.reload(fap)\n",
    "# model all regions with x neighbouring stars\n",
    "n_stars = 11\n",
    "\n",
    "resulting_params_all = np.zeros((0, len(hot_stars_arr), 2))\n",
    "\n",
    "# define the limits of the region to be cropped\n",
    "limits = np.load(save_data_crop_dir + '%d_stars/limits.npy'%(n_stars))\n",
    "\n",
    "# associate spectra to those stars\n",
    "stars_with_n_neighbours = np.where(total_neighbours == n_stars)\n",
    "\n",
    "\n",
    "for i, stars_idx in enumerate(stars_with_n_neighbours[0][0:2]):\n",
    "    # arr to save the chi-sq val for a given hot star distribution, and the best template no. for this chi-sq\n",
    "    resulting_params = np.zeros((0, 2))\n",
    "    \n",
    "    print('\\nRegion %d of %d:'%(i, len(stars_with_n_neighbours[0])))\n",
    "    \n",
    "    # get positions and magnitudes of the neighbouring stars\n",
    "    x, y, mKs = star_neighbours[1][stars_idx][0], star_neighbours[1][stars_idx][1], star_neighbours[1][stars_idx][3]\n",
    "    \n",
    "    data_mat_arr = fap.loadDataReduceResolution(n_stars, i, num_splits, limits, save_data_crop_dir, save_data_psf_crop_dir)\n",
    "    # iterating over every possible hot star population\n",
    "    for j, hot_stars in enumerate(hot_stars_arr): \n",
    "        print('%d percent hot stars -- '%(hot_stars*100))\n",
    "        \n",
    "        # generate 2D matricies from the template library by associating x, y and mKs to spectra\n",
    "        perms = np.load(template_dir+'%d_stars/%d_hot_stars/perm_arr.npy'%(n_stars, hot_stars*n_stars)) \n",
    "        \n",
    "        # iterating over all the permutations for the given hot star population\n",
    "        chi_sq_val, best_fit_perm_no = fap.generateTemplatesCalChiSquare(x, y, mKs, template_dir, save_data_psf_crop_dir, n_stars,\\\n",
    "                                                      hot_stars, perms, disperse_range, dispersion_angle,\\\n",
    "                                                      u_pix_arr, limits[i], data_mat_arr, i, x_FOV[stars_idx],\\\n",
    "                                                                         num_splits=5)\n",
    "        \n",
    "        resulting_params = np.append(resulting_params, [[chi_sq_val, best_fit_perm_no]], axis=0)\n",
    "    \n",
    "    # save the results of the computation for every region\n",
    "    resulting_params_all = np.append(resulting_params_all, [resulting_params], axis=0)    "
   ]
  },
  {
   "cell_type": "code",
   "execution_count": 45,
   "metadata": {},
   "outputs": [
    {
     "name": "stdout",
     "output_type": "stream",
     "text": [
      "11 5.5\n",
      "(924, 12)\n"
     ]
    },
    {
     "ename": "ValueError",
     "evalue": "all the input array dimensions for the concatenation axis must match exactly, but along dimension 1, the array at index 0 has size 11 and the array at index 1 has size 12",
     "output_type": "error",
     "traceback": [
      "\u001b[0;31m---------------------------------------------------------------------------\u001b[0m",
      "\u001b[0;31mValueError\u001b[0m                                Traceback (most recent call last)",
      "\u001b[0;32m<ipython-input-45-01c560d480e8>\u001b[0m in \u001b[0;36m<module>\u001b[0;34m()\u001b[0m\n\u001b[1;32m      1\u001b[0m \u001b[0mimportlib\u001b[0m\u001b[0;34m.\u001b[0m\u001b[0mreload\u001b[0m\u001b[0;34m(\u001b[0m\u001b[0mfap\u001b[0m\u001b[0;34m)\u001b[0m\u001b[0;34m\u001b[0m\u001b[0m\n\u001b[1;32m      2\u001b[0m \u001b[0mbest_fit_perms_2D\u001b[0m \u001b[0;34m=\u001b[0m \u001b[0mnp\u001b[0m\u001b[0;34m.\u001b[0m\u001b[0mzeros\u001b[0m\u001b[0;34m(\u001b[0m\u001b[0;34m(\u001b[0m\u001b[0;36m0\u001b[0m\u001b[0;34m,\u001b[0m \u001b[0mn_stars\u001b[0m\u001b[0;34m)\u001b[0m\u001b[0;34m)\u001b[0m\u001b[0;34m\u001b[0m\u001b[0m\n\u001b[0;32m----> 3\u001b[0;31m \u001b[0max\u001b[0m\u001b[0;34m,\u001b[0m \u001b[0mbest_fit_perms_2D\u001b[0m \u001b[0;34m=\u001b[0m \u001b[0mfap\u001b[0m\u001b[0;34m.\u001b[0m\u001b[0mrecoverBestTemplatePermutation\u001b[0m\u001b[0;34m(\u001b[0m\u001b[0mresulting_params_all\u001b[0m\u001b[0;34m,\u001b[0m \u001b[0mhot_stars_arr\u001b[0m\u001b[0;34m,\u001b[0m \u001b[0mi\u001b[0m\u001b[0;34m,\u001b[0m \u001b[0mn_stars\u001b[0m\u001b[0;34m,\u001b[0m \u001b[0mbest_fit_perms_2D\u001b[0m\u001b[0;34m,\u001b[0m \u001b[0mtemplate_dir\u001b[0m\u001b[0;34m,\u001b[0m \u001b[0mplot_chi_sqs\u001b[0m\u001b[0;34m=\u001b[0m\u001b[0;32mTrue\u001b[0m\u001b[0;34m)\u001b[0m\u001b[0;34m\u001b[0m\u001b[0m\n\u001b[0m\u001b[1;32m      4\u001b[0m \u001b[0;34m\u001b[0m\u001b[0m\n\u001b[1;32m      5\u001b[0m \u001b[0;31m# save the best chi-square values for the given region\u001b[0m\u001b[0;34m\u001b[0m\u001b[0;34m\u001b[0m\u001b[0m\n",
      "\u001b[0;32m~/Downloads/Slitless_spectroscopy-master/imported_files/Fitting_and_pdfs.py\u001b[0m in \u001b[0;36mrecoverBestTemplatePermutation\u001b[0;34m(resulting_params_all, hot_stars_arr, i, n_stars, best_fit_perms_2D, template_dir, plot_chi_sqs)\u001b[0m\n\u001b[1;32m    258\u001b[0m \u001b[0;34m\u001b[0m\u001b[0m\n\u001b[1;32m    259\u001b[0m     \u001b[0;31m# save all the best perms for every region\u001b[0m\u001b[0;34m\u001b[0m\u001b[0;34m\u001b[0m\u001b[0m\n\u001b[0;32m--> 260\u001b[0;31m     \u001b[0mbest_fit_perms_2D\u001b[0m \u001b[0;34m=\u001b[0m \u001b[0mnp\u001b[0m\u001b[0;34m.\u001b[0m\u001b[0mappend\u001b[0m\u001b[0;34m(\u001b[0m\u001b[0mbest_fit_perms_2D\u001b[0m\u001b[0;34m,\u001b[0m \u001b[0;34m[\u001b[0m\u001b[0mnp\u001b[0m\u001b[0;34m.\u001b[0m\u001b[0marray\u001b[0m\u001b[0;34m(\u001b[0m\u001b[0mbest_fit_perm\u001b[0m\u001b[0;34m[\u001b[0m\u001b[0;36m0\u001b[0m\u001b[0;34m]\u001b[0m\u001b[0;34m)\u001b[0m\u001b[0;34m]\u001b[0m\u001b[0;34m,\u001b[0m \u001b[0maxis\u001b[0m\u001b[0;34m=\u001b[0m\u001b[0;36m0\u001b[0m\u001b[0;34m)\u001b[0m\u001b[0;34m\u001b[0m\u001b[0m\n\u001b[0m\u001b[1;32m    261\u001b[0m \u001b[0;34m\u001b[0m\u001b[0m\n\u001b[1;32m    262\u001b[0m     \u001b[0;32mif\u001b[0m \u001b[0mplot_chi_sqs\u001b[0m\u001b[0;34m:\u001b[0m\u001b[0;34m\u001b[0m\u001b[0m\n",
      "\u001b[0;32m<__array_function__ internals>\u001b[0m in \u001b[0;36mappend\u001b[0;34m(*args, **kwargs)\u001b[0m\n",
      "\u001b[0;32m~/.local/lib/python3.6/site-packages/numpy/lib/function_base.py\u001b[0m in \u001b[0;36mappend\u001b[0;34m(arr, values, axis)\u001b[0m\n\u001b[1;32m   4669\u001b[0m         \u001b[0mvalues\u001b[0m \u001b[0;34m=\u001b[0m \u001b[0mravel\u001b[0m\u001b[0;34m(\u001b[0m\u001b[0mvalues\u001b[0m\u001b[0;34m)\u001b[0m\u001b[0;34m\u001b[0m\u001b[0m\n\u001b[1;32m   4670\u001b[0m         \u001b[0maxis\u001b[0m \u001b[0;34m=\u001b[0m \u001b[0marr\u001b[0m\u001b[0;34m.\u001b[0m\u001b[0mndim\u001b[0m\u001b[0;34m-\u001b[0m\u001b[0;36m1\u001b[0m\u001b[0;34m\u001b[0m\u001b[0m\n\u001b[0;32m-> 4671\u001b[0;31m     \u001b[0;32mreturn\u001b[0m \u001b[0mconcatenate\u001b[0m\u001b[0;34m(\u001b[0m\u001b[0;34m(\u001b[0m\u001b[0marr\u001b[0m\u001b[0;34m,\u001b[0m \u001b[0mvalues\u001b[0m\u001b[0;34m)\u001b[0m\u001b[0;34m,\u001b[0m \u001b[0maxis\u001b[0m\u001b[0;34m=\u001b[0m\u001b[0maxis\u001b[0m\u001b[0;34m)\u001b[0m\u001b[0;34m\u001b[0m\u001b[0m\n\u001b[0m\u001b[1;32m   4672\u001b[0m \u001b[0;34m\u001b[0m\u001b[0m\n\u001b[1;32m   4673\u001b[0m \u001b[0;34m\u001b[0m\u001b[0m\n",
      "\u001b[0;32m<__array_function__ internals>\u001b[0m in \u001b[0;36mconcatenate\u001b[0;34m(*args, **kwargs)\u001b[0m\n",
      "\u001b[0;31mValueError\u001b[0m: all the input array dimensions for the concatenation axis must match exactly, but along dimension 1, the array at index 0 has size 11 and the array at index 1 has size 12"
     ]
    }
   ],
   "source": [
    "importlib.reload(fap)\n",
    "best_fit_perms_2D = np.zeros((0, n_stars))\n",
    "ax, best_fit_perms_2D = fap.recoverBestTemplatePermutation(resulting_params_all, hot_stars_arr, i, n_stars, best_fit_perms_2D, template_dir, plot_chi_sqs=True)\n",
    "\n",
    "# save the best chi-square values for the given region\n",
    "np.save('Data/Chi_sq_vals/%d_stars_%d_regions.npy'%(n_stars, len(stars_with_n_neighbours[0])), resulting_params_all)"
   ]
  },
  {
   "cell_type": "code",
   "execution_count": 259,
   "metadata": {},
   "outputs": [
    {
     "data": {
      "image/png": "[encoded data removed]",
      "text/plain": [
       "<Figure size 792x288 with 2 Axes>"
      ]
     },
     "metadata": {},
     "output_type": "display_data"
    }
   ],
   "source": [
    "plotSubRegion(limits[-1], data_mat_arr[1], 'Data grid matrix', '', cmaps='Blues')"
   ]
  },
  {
   "cell_type": "code",
   "execution_count": 341,
   "metadata": {},
   "outputs": [
    {
     "data": {
      "text/plain": [
       "(11, 2)"
      ]
     },
     "execution_count": 341,
     "metadata": {},
     "output_type": "execute_result"
    }
   ],
   "source": [
    "def evaluateChiSquareAccuracy(resulting_params_all, hot_stars_arr, i, n_stars, ):\n",
    "    \"\"\"\n",
    "    Function to compare the target star stellar type with the stellar type predicted by the templates\n",
    "    \"\"\"\n",
    "    return\n"
   ]
  },
  {
   "cell_type": "code",
   "execution_count": 38,
   "metadata": {},
   "outputs": [
    {
     "data": {
      "text/plain": [
       "(165, 11)"
      ]
     },
     "execution_count": 38,
     "metadata": {},
     "output_type": "execute_result"
    }
   ],
   "source": [
    "perm = np.load(template_dir+ '%d_stars/%d_hot_stars/perm_arr.npy'%(11, 0.3*11))\n",
    "np.shape(perm)\n",
    "    "
   ]
  },
  {
   "cell_type": "code",
   "execution_count": null,
   "metadata": {},
   "outputs": [],
   "source": []
  }
 ],
 "metadata": {
  "kernelspec": {
   "display_name": "Python 3.6",
   "language": "python",
   "name": "python_3.6"
  },
  "language_info": {
   "codemirror_mode": {
    "name": "ipython",
    "version": 3
   },
   "file_extension": ".py",
   "mimetype": "text/x-python",
   "name": "python",
   "nbconvert_exporter": "python",
   "pygments_lexer": "ipython3",
   "version": "3.6.5"
  }
 },
 "nbformat": 4,
 "nbformat_minor": 2
}
